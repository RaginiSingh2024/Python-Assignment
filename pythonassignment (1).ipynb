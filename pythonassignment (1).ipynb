{
 "cells": [
  {
   "cell_type": "markdown",
   "metadata": {},
   "source": [
    "Q1. WAP to check whether a number is even or odd."
   ]
  },
  {
   "cell_type": "code",
   "execution_count": 8,
   "metadata": {},
   "outputs": [
    {
     "name": "stdout",
     "output_type": "stream",
     "text": [
      "The number is even\n"
     ]
    }
   ],
   "source": [
    "num=int(input(\"Enter the number : \"))\n",
    "if num %2 ==0:\n",
    "    print(\"The number is even\")\n",
    "else:\n",
    "    print(\"The number is odd\")   \n"
   ]
  },
  {
   "cell_type": "markdown",
   "metadata": {},
   "source": [
    "Q2. WAP to check whether person is eligible for voting."
   ]
  },
  {
   "cell_type": "code",
   "execution_count": 10,
   "metadata": {},
   "outputs": [
    {
     "name": "stdout",
     "output_type": "stream",
     "text": [
      "Your are not eligible for voting\n"
     ]
    }
   ],
   "source": [
    "age=int(input(\"Enter your age: \"))\n",
    "if age>=18:\n",
    "    print(\"You are eligible for voting\")\n",
    "else:\n",
    "    print(\"Your are not eligible for voting\")    "
   ]
  },
  {
   "cell_type": "markdown",
   "metadata": {},
   "source": [
    "Q3. WAP to enter a number between 1 to 7 as days of a week and print the day\n",
    "accordingly. (Monday, Tuesday ...) using if elif case."
   ]
  },
  {
   "cell_type": "code",
   "execution_count": 112,
   "metadata": {},
   "outputs": [
    {
     "name": "stdout",
     "output_type": "stream",
     "text": [
      "Tuesday\n"
     ]
    }
   ],
   "source": [
    "day=int(input(\"Enter the number\"))\n",
    "if day==1:\n",
    "    print(\"Monday\")\n",
    "elif day==2:\n",
    "    print(\"Tuesday\")   \n",
    "elif day==3:\n",
    "    print(\"Wednesday\")   \n",
    "elif day==4:\n",
    "    print(\"Thursday\")   \n",
    "elif day==5:\n",
    "    print(\"Friday\")   \n",
    "elif day==6:\n",
    "    print(\"Saturday\")   \n",
    "elif day==7:\n",
    "    print(\"Sunday\")\n",
    "else:\n",
    "    print(\"The number enter is invalid\")    \n",
    "\n",
    "\n",
    "\n",
    "\n",
    "\n",
    "\n"
   ]
  },
  {
   "cell_type": "markdown",
   "metadata": {},
   "source": [
    "Q4. WAP to enter a number between 1 to 7 as days of a week and print the day\n",
    "accordingly. (Monday, Tuesday ...) using match case."
   ]
  },
  {
   "cell_type": "code",
   "execution_count": 18,
   "metadata": {},
   "outputs": [
    {
     "ename": "SyntaxError",
     "evalue": "invalid syntax (570718434.py, line 2)",
     "output_type": "error",
     "traceback": [
      "\u001b[0;36m  Cell \u001b[0;32mIn[18], line 2\u001b[0;36m\u001b[0m\n\u001b[0;31m    match day:\u001b[0m\n\u001b[0m          ^\u001b[0m\n\u001b[0;31mSyntaxError\u001b[0m\u001b[0;31m:\u001b[0m invalid syntax\n"
     ]
    }
   ],
   "source": [
    "day=int(input(\"Enter the number between (1 to 7)\"))\n",
    "match day:\n",
    "     case 1:\n",
    "       print(\"Monday\")\n",
    "     case 2:\n",
    "       print(\"Tuesday\")\n",
    "     case 3:\n",
    "       print(\"Wednesday\")  \n",
    "     case 4:\n",
    "      print(\"Thursday\")      \n",
    "     case 5:\n",
    "        print(\"Friday\")  \n",
    "     case 6:\n",
    "        print(\"Saturday\") \n",
    "     case 7:\n",
    "        print(\"Sunday\")\n",
    "     case _:\n",
    "        print(\"The number enter is not between the (1 to 7)\")   \n",
    "        \n",
    "   \n",
    "   \n",
    " "
   ]
  },
  {
   "cell_type": "markdown",
   "metadata": {},
   "source": [
    "Q5. WAP to check whether a year is a leap year or not. A year is a leap year if “any\n",
    "one of ” the following conditions are satisfied:\n",
    "• The year is multiple of 400.\n",
    "• The year is a multiple of 4 and not a multiple of 100"
   ]
  },
  {
   "cell_type": "code",
   "execution_count": 33,
   "metadata": {},
   "outputs": [
    {
     "name": "stdout",
     "output_type": "stream",
     "text": [
      "2023 is not a leap year\n"
     ]
    }
   ],
   "source": [
    "year=int(input(\"Enter the year : \"))\n",
    "if (year  %400 ==0 ) or (year %4 ==0  and year %100 !=0):\n",
    "    print(f\"{year} is a leap year.\")\n",
    "else:\n",
    "    print(f\"{year} is not a leap year\")    \n",
    "\n"
   ]
  },
  {
   "cell_type": "markdown",
   "metadata": {},
   "source": [
    "Q6. WAP to calculate to take in the marks of 5 subjects, compute average and display\n",
    "the grade as per following rules:\n",
    "• average >= 90 : “A\"\n",
    "• average >= 80 : “B\"\n",
    "• average >= 70 : “C\"\n",
    "• average >= 60 : “D”"
   ]
  },
  {
   "cell_type": "code",
   "execution_count": 55,
   "metadata": {},
   "outputs": [
    {
     "name": "stdout",
     "output_type": "stream",
     "text": [
      "The average marks obtained is: 83.4\n",
      "The grade obtained is B\n"
     ]
    }
   ],
   "source": [
    "marks = []\n",
    "for i in range(5):\n",
    "    mark = float(input(f\"Enter marks for  subjects {i+1}:\"))\n",
    "    marks.append(mark)\n",
    "\n",
    "average = sum(marks)/5\n",
    "print(\"The average marks obtained is:\",average)\n",
    "\n",
    "if average>=90:\n",
    "    print(\"The grade obtained is A\")\n",
    "elif average>=80:\n",
    "    print(\"The grade obtained is B\")    \n",
    "elif average>=70:\n",
    "    print(\"The grade obtained is C\")    \n",
    "elif average>=60:\n",
    "    print(\"The grade obtained is D\")    \n",
    "else :\n",
    "    print(\"The student is falied in exam!!\")\n",
    "\n",
    "\n",
    "\n",
    " \n",
    "\n",
    "\n"
   ]
  },
  {
   "cell_type": "markdown",
   "metadata": {},
   "source": [
    "Q7. WAP to input a character . Check whether the charecter is vowel or consonant\n"
   ]
  },
  {
   "cell_type": "code",
   "execution_count": 115,
   "metadata": {},
   "outputs": [
    {
     "name": "stdout",
     "output_type": "stream",
     "text": [
      "The character is a vowel.\n"
     ]
    }
   ],
   "source": [
    "character= input(\"Enter a chracter: \")\n",
    "\n",
    "if len(character) == 1:\n",
    "    character= character.lower()\n",
    "    if character in 'a e i o u':\n",
    "        print(\"The character is a vowel.\")\n",
    "    else: \n",
    "        print(\"The character is a consonant.\")\n",
    "else:\n",
    "    print(\"PLease enter a single character \")\n"
   ]
  },
  {
   "cell_type": "markdown",
   "metadata": {},
   "source": [
    "Q8. WAP to search an element in a list [use for: else clause]"
   ]
  },
  {
   "cell_type": "code",
   "execution_count": 68,
   "metadata": {},
   "outputs": [
    {
     "name": "stdout",
     "output_type": "stream",
     "text": [
      "Element 100 found in the list.\n"
     ]
    }
   ],
   "source": [
    "list= [10,20,30,40,50,60,70,80,90,100]\n",
    "\n",
    "search_element=int(input(\"Enter the element to search: \"))\n",
    "\n",
    "for item in list:\n",
    "    if item== search_element:\n",
    "        print(f\"Element {search_element} found in the list.\") \n",
    "        break\n",
    "else :\n",
    "     print(f\"Element {search_element} not found in the list\")\n",
    "        \n"
   ]
  },
  {
   "cell_type": "markdown",
   "metadata": {},
   "source": [
    "Q9. Write a program to take a single digit number from the key board and print its\n",
    "spelling in English word using if elif."
   ]
  },
  {
   "cell_type": "code",
   "execution_count": 74,
   "metadata": {},
   "outputs": [
    {
     "name": "stdout",
     "output_type": "stream",
     "text": [
      "The enter number is not between the (0-9.)\n"
     ]
    }
   ],
   "source": [
    "digit = int(input(\"Enter a single-digit number (0 to 9): \"))\n",
    "\n",
    "if digit == 0:\n",
    "    print(\"Zero\")\n",
    "elif digit==1:\n",
    "    print(\"One\")\n",
    "elif digit==2:\n",
    "    print(\"Two\")\n",
    "elif digit==3:\n",
    "    print(\"Three\")\n",
    "elif digit==4:\n",
    "    print(\"Four\")\n",
    "elif digit==5:\n",
    "    print(\"Five\")\n",
    "elif digit==6:\n",
    "    print(\"Six\")\n",
    "elif digit==7:\n",
    "    print(\"Seven\")\n",
    "elif digit==8:\n",
    "    print(\"Eight\")\n",
    "elif digit==9:\n",
    "    print(\"Nine\")\n",
    "else:\n",
    "    print(\"The enter number is not between the (0-9.)\")"
   ]
  },
  {
   "cell_type": "markdown",
   "metadata": {},
   "source": [
    "Q10. WAP to input three numbers and arrange them in ascending numbers."
   ]
  },
  {
   "cell_type": "code",
   "execution_count": 75,
   "metadata": {},
   "outputs": [
    {
     "name": "stdout",
     "output_type": "stream",
     "text": [
      "Number in ascending order: [1.0, 2.0, 3.0]\n"
     ]
    }
   ],
   "source": [
    "num1=float(input(\"Enter the frist number: \"))\n",
    "num2=float(input(\"Enter the second number:\"))\n",
    "num3=float(input(\"Enter the thrid number:\"))\n",
    "\n",
    "numbers = [num1 ,num2 ,num3]\n",
    "numbers.sort()\n",
    "print(\"Number in ascending order:\",numbers)\n"
   ]
  },
  {
   "cell_type": "markdown",
   "metadata": {},
   "source": [
    "Q11. Write a program to take a single digit number from the key board and print its\n",
    "spelling in English word using match case"
   ]
  },
  {
   "cell_type": "code",
   "execution_count": 14,
   "metadata": {},
   "outputs": [
    {
     "ename": "SyntaxError",
     "evalue": "invalid syntax (2464939214.py, line 3)",
     "output_type": "error",
     "traceback": [
      "\u001b[0;36m  Cell \u001b[0;32mIn[14], line 3\u001b[0;36m\u001b[0m\n\u001b[0;31m    match digit:\u001b[0m\n\u001b[0m          ^\u001b[0m\n\u001b[0;31mSyntaxError\u001b[0m\u001b[0;31m:\u001b[0m invalid syntax\n"
     ]
    }
   ],
   "source": [
    "digit=int(input(\"Enter the single digir number between (0-9):\"))\n",
    "\n",
    "match digit:\n",
    "\n",
    "    case 0:\n",
    "        print(\"Zero\")\n",
    "    case 1:\n",
    "        print(\"One\")   \n",
    "    case 2:\n",
    "        print(\"Two\")\n",
    "    case 3:\n",
    "        print(\"Three\")\n",
    "    case 4:\n",
    "        print(\"Four\")  \n",
    "    case 5:\n",
    "        print(\"Five\")\n",
    "    case 6:\n",
    "        print(\"Six\") \n",
    "    case 7:\n",
    "        print(\"Seven\")\n",
    "    case 8:\n",
    "        print(\"Eight\")\n",
    "    case 9:\n",
    "        print(\"Nine\")\n",
    "    case _:\n",
    "        print(\"The number is not between the (0-9).\")\n",
    " "
   ]
  },
  {
   "cell_type": "markdown",
   "metadata": {},
   "source": [
    "Q.12 WAP to read two numbers and arithmetic operator [+,-,*,/,%] perform the\n",
    "operation and display the computed result. [Hint: use elif statement]"
   ]
  },
  {
   "cell_type": "code",
   "execution_count": 24,
   "metadata": {},
   "outputs": [
    {
     "name": "stdout",
     "output_type": "stream",
     "text": [
      "The answer is 2.0 * 2.0= 4.0\n"
     ]
    }
   ],
   "source": [
    "num1= float(input(\"Enter the Frist number:\"))\n",
    "num2= float(input(\"Enter the second number:\"))\n",
    "\n",
    "operator = input(\"Enter an operator \")\n",
    "\n",
    "if operator== '+' :\n",
    "    answer= num1+num2\n",
    "    print(f\"The answer is {num1} + {num2}= {answer}\" )\n",
    "elif operator =='-':\n",
    "     answer= num1-num2\n",
    "     print(f\"The answer is {num1} - {num2}= {answer}\" )\n",
    "     \n",
    "elif operator =='*':\n",
    "     answer= num1*num2\n",
    "     print(f\"The answer is {num1} * {num2}= {answer}\" )\n",
    "elif operator =='/':\n",
    "     answer= num1/num2\n",
    "     print(f\"The answer is {num1} / {num2}= {answer}\" )\n",
    "elif operator =='%':\n",
    "     answer= num1%num2\n",
    "     print(f\"The answer is {num1} % {num2}= {answer}\" )\n",
    "\n"
   ]
  },
  {
   "cell_type": "markdown",
   "metadata": {},
   "source": [
    "Q.13 WAP to check whether a inputted character is uppercase or lowercase or digit or\n",
    "any other character."
   ]
  },
  {
   "cell_type": "code",
   "execution_count": 5,
   "metadata": {},
   "outputs": [
    {
     "name": "stdout",
     "output_type": "stream",
     "text": [
      "The character is uppercase.\n"
     ]
    }
   ],
   "source": [
    "char = input(\"Enter a character\")\n",
    "if len(char) !=1:\n",
    "    print(\"Please enter only one character.\")\n",
    "else :\n",
    "    if char.isupper():\n",
    "        print(\"The character is uppercase.\")  \n",
    "    elif char.islower():\n",
    "        print(\"The character is lowercase.\") \n",
    "    elif char.isdigit():\n",
    "        print(\"The character is digit.\")   \n",
    "    else: \n",
    "        print(\"The character is neither uppercase,lowercase , nor a digit.\")  \n",
    "\n"
   ]
  },
  {
   "cell_type": "markdown",
   "metadata": {},
   "source": [
    "Q14. Develop a number guessing game using loops and conditional statements. Ask\n",
    "user to guess a secret number. If user has not guessed correct number, provide\n",
    "him/her hint."
   ]
  },
  {
   "cell_type": "code",
   "execution_count": 22,
   "metadata": {},
   "outputs": [
    {
     "name": "stdout",
     "output_type": "stream",
     "text": [
      "Welcome to the Number Guessing Game!\n",
      "I ahev chossen a secret number between 1 and 100\n",
      "Try to guess it!\n"
     ]
    },
    {
     "ename": "KeyboardInterrupt",
     "evalue": "Interrupted by user",
     "output_type": "error",
     "traceback": [
      "\u001b[0;31m---------------------------------------------------------------------------\u001b[0m",
      "\u001b[0;31mKeyboardInterrupt\u001b[0m                         Traceback (most recent call last)",
      "Cell \u001b[0;32mIn[22], line 10\u001b[0m\n\u001b[1;32m      7\u001b[0m \u001b[38;5;28mprint\u001b[39m(\u001b[38;5;124m\"\u001b[39m\u001b[38;5;124mTry to guess it!\u001b[39m\u001b[38;5;124m\"\u001b[39m)\n\u001b[1;32m      9\u001b[0m \u001b[38;5;28;01mwhile\u001b[39;00m \u001b[38;5;28;01mTrue\u001b[39;00m:\n\u001b[0;32m---> 10\u001b[0m     guess \u001b[38;5;241m=\u001b[39m \u001b[38;5;28;43minput\u001b[39;49m\u001b[43m(\u001b[49m\u001b[38;5;124;43m\"\u001b[39;49m\u001b[38;5;124;43mEnter the guess:\u001b[39;49m\u001b[38;5;124;43m\"\u001b[39;49m\u001b[43m)\u001b[49m\n\u001b[1;32m     12\u001b[0m     \u001b[38;5;28;01mif\u001b[39;00m \u001b[38;5;129;01mnot\u001b[39;00m guess\u001b[38;5;241m.\u001b[39misdigit():\n\u001b[1;32m     13\u001b[0m         \u001b[38;5;28mprint\u001b[39m(\u001b[38;5;124m\"\u001b[39m\u001b[38;5;124mPlease enter a valid number.\u001b[39m\u001b[38;5;124m\"\u001b[39m)\n",
      "File \u001b[0;32m~/Library/Python/3.9/lib/python/site-packages/ipykernel/kernelbase.py:1282\u001b[0m, in \u001b[0;36mKernel.raw_input\u001b[0;34m(self, prompt)\u001b[0m\n\u001b[1;32m   1280\u001b[0m     msg \u001b[38;5;241m=\u001b[39m \u001b[38;5;124m\"\u001b[39m\u001b[38;5;124mraw_input was called, but this frontend does not support input requests.\u001b[39m\u001b[38;5;124m\"\u001b[39m\n\u001b[1;32m   1281\u001b[0m     \u001b[38;5;28;01mraise\u001b[39;00m StdinNotImplementedError(msg)\n\u001b[0;32m-> 1282\u001b[0m \u001b[38;5;28;01mreturn\u001b[39;00m \u001b[38;5;28;43mself\u001b[39;49m\u001b[38;5;241;43m.\u001b[39;49m\u001b[43m_input_request\u001b[49m\u001b[43m(\u001b[49m\n\u001b[1;32m   1283\u001b[0m \u001b[43m    \u001b[49m\u001b[38;5;28;43mstr\u001b[39;49m\u001b[43m(\u001b[49m\u001b[43mprompt\u001b[49m\u001b[43m)\u001b[49m\u001b[43m,\u001b[49m\n\u001b[1;32m   1284\u001b[0m \u001b[43m    \u001b[49m\u001b[38;5;28;43mself\u001b[39;49m\u001b[38;5;241;43m.\u001b[39;49m\u001b[43m_parent_ident\u001b[49m\u001b[43m[\u001b[49m\u001b[38;5;124;43m\"\u001b[39;49m\u001b[38;5;124;43mshell\u001b[39;49m\u001b[38;5;124;43m\"\u001b[39;49m\u001b[43m]\u001b[49m\u001b[43m,\u001b[49m\n\u001b[1;32m   1285\u001b[0m \u001b[43m    \u001b[49m\u001b[38;5;28;43mself\u001b[39;49m\u001b[38;5;241;43m.\u001b[39;49m\u001b[43mget_parent\u001b[49m\u001b[43m(\u001b[49m\u001b[38;5;124;43m\"\u001b[39;49m\u001b[38;5;124;43mshell\u001b[39;49m\u001b[38;5;124;43m\"\u001b[39;49m\u001b[43m)\u001b[49m\u001b[43m,\u001b[49m\n\u001b[1;32m   1286\u001b[0m \u001b[43m    \u001b[49m\u001b[43mpassword\u001b[49m\u001b[38;5;241;43m=\u001b[39;49m\u001b[38;5;28;43;01mFalse\u001b[39;49;00m\u001b[43m,\u001b[49m\n\u001b[1;32m   1287\u001b[0m \u001b[43m\u001b[49m\u001b[43m)\u001b[49m\n",
      "File \u001b[0;32m~/Library/Python/3.9/lib/python/site-packages/ipykernel/kernelbase.py:1325\u001b[0m, in \u001b[0;36mKernel._input_request\u001b[0;34m(self, prompt, ident, parent, password)\u001b[0m\n\u001b[1;32m   1322\u001b[0m \u001b[38;5;28;01mexcept\u001b[39;00m \u001b[38;5;167;01mKeyboardInterrupt\u001b[39;00m:\n\u001b[1;32m   1323\u001b[0m     \u001b[38;5;66;03m# re-raise KeyboardInterrupt, to truncate traceback\u001b[39;00m\n\u001b[1;32m   1324\u001b[0m     msg \u001b[38;5;241m=\u001b[39m \u001b[38;5;124m\"\u001b[39m\u001b[38;5;124mInterrupted by user\u001b[39m\u001b[38;5;124m\"\u001b[39m\n\u001b[0;32m-> 1325\u001b[0m     \u001b[38;5;28;01mraise\u001b[39;00m \u001b[38;5;167;01mKeyboardInterrupt\u001b[39;00m(msg) \u001b[38;5;28;01mfrom\u001b[39;00m \u001b[38;5;28;01mNone\u001b[39;00m\n\u001b[1;32m   1326\u001b[0m \u001b[38;5;28;01mexcept\u001b[39;00m \u001b[38;5;167;01mException\u001b[39;00m:\n\u001b[1;32m   1327\u001b[0m     \u001b[38;5;28mself\u001b[39m\u001b[38;5;241m.\u001b[39mlog\u001b[38;5;241m.\u001b[39mwarning(\u001b[38;5;124m\"\u001b[39m\u001b[38;5;124mInvalid Message:\u001b[39m\u001b[38;5;124m\"\u001b[39m, exc_info\u001b[38;5;241m=\u001b[39m\u001b[38;5;28;01mTrue\u001b[39;00m)\n",
      "\u001b[0;31mKeyboardInterrupt\u001b[0m: Interrupted by user"
     ]
    }
   ],
   "source": [
    "import random\n",
    "\n",
    "secret_number = random.randint(1,100)\n",
    "\n",
    "print(\"Welcome to the Number Guessing Game!\")\n",
    "print(\"I ahev chossen a secret number between 1 and 100\")\n",
    "print(\"Try to guess it!\")\n",
    "\n",
    "while True:\n",
    "    guess = input(\"Enter the guess:\")\n",
    "\n",
    "    if not guess.isdigit():\n",
    "        print(\"Please enter a valid number.\")\n",
    "        continue \n",
    "\n",
    "    guess = int(guess)  \n",
    "\n",
    "    if guess < secret_number:\n",
    "        print(\"Too low ! Try again\")  \n",
    "    elif guess > secret_number:\n",
    "        print(\"too high! Try again.\")\n",
    "    else:\n",
    "        print(\"Congratulation! You've guessed the secret number!\")    \n",
    "        break"
   ]
  },
  {
   "cell_type": "markdown",
   "metadata": {},
   "source": [
    "Q15. WAP to prompt user to enter name and password until it enters \"stud\" in name\n",
    "and \"pass\" in password. Allow only five attempts"
   ]
  },
  {
   "cell_type": "code",
   "execution_count": null,
   "metadata": {},
   "outputs": [],
   "source": []
  },
  {
   "cell_type": "markdown",
   "metadata": {},
   "source": [
    "Q16. WAP to display numbers from 15 to 1 in descending order."
   ]
  },
  {
   "cell_type": "code",
   "execution_count": 18,
   "metadata": {},
   "outputs": [
    {
     "name": "stdout",
     "output_type": "stream",
     "text": [
      "15 14 13 12 11 10 9 8 7 6 5 4 3 2 1 "
     ]
    }
   ],
   "source": [
    "for num in range (15,0,-1):\n",
    "    print(num, end=' ')"
   ]
  },
  {
   "cell_type": "markdown",
   "metadata": {},
   "source": [
    "Q17. WAP to display sum of numbers from 11 to 200 using for loop.\n"
   ]
  },
  {
   "cell_type": "code",
   "execution_count": 29,
   "metadata": {},
   "outputs": [
    {
     "name": "stdout",
     "output_type": "stream",
     "text": [
      "The sum of number from 11 to 200 is:  20045\n"
     ]
    }
   ],
   "source": [
    "total_sum = 0\n",
    "\n",
    "for number in range(11 ,201):\n",
    "    total_sum  += number \n",
    "print(\"The sum of number from 11 to 200 is: \", total_sum)"
   ]
  },
  {
   "cell_type": "markdown",
   "metadata": {},
   "source": [
    "Q18. WAP to display average of numbers from 5to 15 and 21 to 60."
   ]
  },
  {
   "cell_type": "code",
   "execution_count": 30,
   "metadata": {},
   "outputs": [
    {
     "name": "stdout",
     "output_type": "stream",
     "text": [
      "The average of number from 5 to 15 and 21 to 60 is: 434.3\n"
     ]
    }
   ],
   "source": [
    "sum =0 \n",
    "count=0\n",
    "\n",
    "for num in range (5,16):\n",
    "    total_sum += num \n",
    "    count += 1\n",
    "\n",
    "for num in range (21,60):\n",
    "    total_sum +=num\n",
    "    count += 1\n",
    "\n",
    "average = total_sum/count\n",
    "\n",
    "print(\"The average of number from 5 to 15 and 21 to 60 is:\",average)"
   ]
  },
  {
   "cell_type": "markdown",
   "metadata": {},
   "source": [
    "Q19. WAP to display odd numbers from 5 to 30."
   ]
  },
  {
   "cell_type": "code",
   "execution_count": 31,
   "metadata": {},
   "outputs": [
    {
     "name": "stdout",
     "output_type": "stream",
     "text": [
      "5\n",
      "7\n",
      "9\n",
      "11\n",
      "13\n",
      "15\n",
      "17\n",
      "19\n",
      "21\n",
      "23\n",
      "25\n",
      "27\n",
      "29\n"
     ]
    }
   ],
   "source": [
    "for num in range(5,31):\n",
    "    if num %2 !=0 :\n",
    "        print(num)"
   ]
  },
  {
   "cell_type": "markdown",
   "metadata": {},
   "source": [
    "Q20. WAP to find factorial of a number inputted by the user."
   ]
  },
  {
   "cell_type": "code",
   "execution_count": 2,
   "metadata": {},
   "outputs": [
    {
     "name": "stdout",
     "output_type": "stream",
     "text": [
      "The factorial of 12 is: 479001600\n"
     ]
    }
   ],
   "source": [
    "num = int(input(\"Enter a non-negative integer:\"))\n",
    "\n",
    "if num <0:\n",
    "    print(\"Factorial is not defined for negative number\")\n",
    "else :\n",
    "    factorial=1\n",
    "    for i in range (1,num +1):\n",
    "        factorial *= i\n",
    "    print(f\"The factorial of {num} is: {factorial}\")"
   ]
  },
  {
   "cell_type": "markdown",
   "metadata": {},
   "source": [
    "Q21. WAP to find sum of digits of a int number."
   ]
  },
  {
   "cell_type": "code",
   "execution_count": 13,
   "metadata": {},
   "outputs": [
    {
     "name": "stdout",
     "output_type": "stream",
     "text": [
      "sum of digit: 1\n"
     ]
    }
   ],
   "source": [
    "num= int(input(\"Enter a number : \"))\n",
    "print(\"sum of digit:\",sum(map(int,str(num))))\n",
    " "
   ]
  },
  {
   "cell_type": "markdown",
   "metadata": {},
   "source": [
    "Q22. WAP to display sum of even numbers between 30 and 50."
   ]
  },
  {
   "cell_type": "code",
   "execution_count": 14,
   "metadata": {},
   "outputs": [
    {
     "name": "stdout",
     "output_type": "stream",
     "text": [
      "440\n"
     ]
    }
   ],
   "source": [
    "print(sum(range(30,51,2)))"
   ]
  },
  {
   "cell_type": "markdown",
   "metadata": {},
   "source": [
    "Q23. WAP to print multiplication table."
   ]
  },
  {
   "cell_type": "code",
   "execution_count": 16,
   "metadata": {},
   "outputs": [
    {
     "name": "stdout",
     "output_type": "stream",
     "text": [
      "2 x 1 = 2\n",
      "2 x 2 = 4\n",
      "2 x 3 = 6\n",
      "2 x 4 = 8\n",
      "2 x 5 = 10\n",
      "2 x 6 = 12\n",
      "2 x 7 = 14\n",
      "2 x 8 = 16\n",
      "2 x 9 = 18\n",
      "2 x 10 = 20\n"
     ]
    }
   ],
   "source": [
    "num = int(input(\"Enter a number: \"))\n",
    "for i in range(1,11):\n",
    "    print(f\"{num} x {i} = {num * i}\")"
   ]
  },
  {
   "cell_type": "markdown",
   "metadata": {},
   "source": [
    "Q24. WAP to print the following patterns: \n",
    "    1\n",
    "    2 2\n",
    "    3 3 3\n",
    "    4 4 4 4"
   ]
  },
  {
   "cell_type": "code",
   "execution_count": 18,
   "metadata": {},
   "outputs": [
    {
     "name": "stdout",
     "output_type": "stream",
     "text": [
      "1 \n",
      "2 2 \n",
      "3 3 3 \n",
      "4 4 4 4 \n"
     ]
    }
   ],
   "source": [
    "for i in range(1,5):\n",
    "    print(((str(i)) + ' ' ) * i)"
   ]
  },
  {
   "cell_type": "markdown",
   "metadata": {},
   "source": [
    "Q.25 WAP to print pattern:\n",
    "   *\n",
    "   * *\n",
    "   * * *\n",
    "   * * * *\n",
    "   * * *\n",
    "   * *\n",
    "   *"
   ]
  },
  {
   "cell_type": "code",
   "execution_count": 21,
   "metadata": {},
   "outputs": [
    {
     "name": "stdout",
     "output_type": "stream",
     "text": [
      "* \n",
      "* * \n",
      "* * * \n",
      "* * * * \n",
      "* * * \n",
      "* * \n",
      "* \n"
     ]
    },
    {
     "name": "stdout",
     "output_type": "stream",
     "text": [
      "* \n",
      "* * \n",
      "* * * \n",
      "* * * * \n",
      "* * * \n",
      "* * \n",
      "* \n"
     ]
    }
   ],
   "source": [
    "for i in range(1,5):\n",
    "    print('* ' *i)\n",
    "\n",
    "for i in range (3,0,-1):\n",
    "    print('* '  *i)\n",
    "\n"
   ]
  },
  {
   "cell_type": "markdown",
   "metadata": {},
   "source": [
    "Q.26 WAP to print pattern:\n",
    "   A\n",
    "   B B\n",
    "   C C C "
   ]
  },
  {
   "cell_type": "code",
   "execution_count": 35,
   "metadata": {},
   "outputs": [
    {
     "name": "stdout",
     "output_type": "stream",
     "text": [
      "A \n",
      "B B \n",
      "C C C \n"
     ]
    }
   ],
   "source": [
    "for i in range (1,4):\n",
    "     print((chr(65 + i -1) + ' ' ) * i)"
   ]
  },
  {
   "cell_type": "markdown",
   "metadata": {},
   "source": [
    "Q.27 Write a program to find whether given number is an Armstrong Number\n",
    "Hint:\n",
    "Given a number x, determine whether the given number is Armstrong number\n",
    "or not. A positive integer of n digits is called an Armstrong number of order\n",
    "n (order is number of digits) if.\n",
    "abcd = pow(a,n) + pow(b,n) + pow(c,n) + pow(d,n)\n",
    "Ex:\n",
    "153 is an Armstrong number.\n",
    "\n",
    "1*1*1 + 5*5*5 + 3*3*3 = 153"
   ]
  },
  {
   "cell_type": "code",
   "execution_count": 53,
   "metadata": {},
   "outputs": [
    {
     "name": "stdout",
     "output_type": "stream",
     "text": [
      "1 is the Armstrong number.\n"
     ]
    }
   ],
   "source": [
    "num= int(input(\"Enter a number\"))\n",
    "\n",
    "if num == sum(int(digit) ** len(str(num)) for digit in str(num)):\n",
    "    print(num,\"is the Armstrong number.\")\n",
    "else:\n",
    "    print(num,\"is not a Armstrong number.\")\n",
    "\n",
    "\n"
   ]
  },
  {
   "cell_type": "markdown",
   "metadata": {},
   "source": [
    "Q28. WAP to generate the Fibonacci series up to n terms. \n",
    "Hint:\n",
    "Fibonacci series: 0 1 1 2 3 5 8\n",
    "Formulae: Fn = Fn-1 + Fn-2\n",
    "with seed values : F0 = 0 and F1 = 1.\n",
    "\n",
    "f1=0, f2=1,\n",
    "f3=f1+f2,\n",
    "f4=f3+f2\n",
    "f5=f4+f3 ...."
   ]
  },
  {
   "cell_type": "code",
   "execution_count": 61,
   "metadata": {},
   "outputs": [
    {
     "name": "stdout",
     "output_type": "stream",
     "text": [
      "Fibonacci Series: \n",
      "0 "
     ]
    }
   ],
   "source": [
    "n = int(input(\"Enter the number of terms:\"))\n",
    "\n",
    "f1,f2= 0,1\n",
    "print(\"Fibonacci Series: \")\n",
    "for i in range(n):\n",
    "    if i==0:\n",
    "        print(f1,end=' ')\n",
    "    elif i == 1:\n",
    "        print(f2, end=' ')\n",
    "    else:\n",
    "        f3 = f1 + f2 \n",
    "        print(f3 , end=' ')\n",
    "        f1,f2 = f2,f3\n",
    "\n",
    " \n"
   ]
  },
  {
   "cell_type": "markdown",
   "metadata": {},
   "source": [
    "Q29. Write a program that check whether a number is prime number or not."
   ]
  },
  {
   "cell_type": "code",
   "execution_count": 71,
   "metadata": {},
   "outputs": [
    {
     "name": "stdout",
     "output_type": "stream",
     "text": [
      "2 is a prime number.\n"
     ]
    }
   ],
   "source": [
    "num= int(input(\"Enter the number: \"))\n",
    "\n",
    "prime_num = True \n",
    "for i in range(2,num):\n",
    "    if num %1 ==0:\n",
    "        prime_num= False\n",
    "        break\n",
    "\n",
    "if prime_num:\n",
    "    print(f\"{num} is a prime number.\")\n",
    "else:\n",
    "    for i in range(2, int(num**0.5) + 1):\n",
    "        print(f\"{num} is a prime number.\")\n",
    "    else:\n",
    "        print(f\"{num} is not primt number.\")\n",
    "    \n",
    " "
   ]
  },
  {
   "cell_type": "markdown",
   "metadata": {},
   "source": [
    "Q30. WAP to calculate sum and average of a given array: arr=(‘i’,[1,2,3,4,5])"
   ]
  },
  {
   "cell_type": "code",
   "execution_count": 72,
   "metadata": {},
   "outputs": [
    {
     "name": "stdout",
     "output_type": "stream",
     "text": [
      "Sum: 15\n",
      "Average:3.0\n"
     ]
    }
   ],
   "source": [
    "arr= ('i' , [1,2,3,4,5,])\n",
    "\n",
    "num= arr[1]\n",
    "\n",
    "total_sum = sum(num)\n",
    "average= total_sum/len(num)\n",
    "\n",
    "print(f\"Sum: {total_sum}\")\n",
    "print(f\"Average:{average}\")\n"
   ]
  },
  {
   "cell_type": "markdown",
   "metadata": {},
   "source": [
    "Q31. Write the program to reverse the order of the items in the array\n"
   ]
  },
  {
   "cell_type": "code",
   "execution_count": 73,
   "metadata": {},
   "outputs": [
    {
     "name": "stdout",
     "output_type": "stream",
     "text": [
      "Original array: [1, 2, 3, 4, 5, 6, 7, 8]\n",
      "Reversed array: [8, 7, 6, 5, 4, 3, 2, 1]\n"
     ]
    }
   ],
   "source": [
    "arr= ('i', [1,2,3,4,5,6,7,8])\n",
    "\n",
    "num=arr[1]\n",
    "\n",
    "reversed_num= num[::-1]\n",
    "print(\"Original array:\", num)\n",
    "print(\"Reversed array:\", reversed_num)"
   ]
  },
  {
   "cell_type": "markdown",
   "metadata": {},
   "source": [
    "Q32. Write the program to remove duplicate elements in a given arrat of intergers.\n"
   ]
  },
  {
   "cell_type": "code",
   "execution_count": 75,
   "metadata": {},
   "outputs": [
    {
     "name": "stdout",
     "output_type": "stream",
     "text": [
      "Original number: [1, 2, 3, 4, 5, 5, 6, 6, 4, 6]\n",
      "Array without duplication:  [1, 2, 3, 4, 5, 6]\n"
     ]
    }
   ],
   "source": [
    "arr=  [1,2,3,4,5,5,6,6,4,6]\n",
    "unique_num= list(set(arr))\n",
    "\n",
    "print(\"Original number:\" ,arr)\n",
    "print(\"Array without duplication: \", unique_num)\n",
    "\n",
    "\n",
    "\n",
    "\n"
   ]
  },
  {
   "cell_type": "markdown",
   "metadata": {},
   "source": [
    "Q33.Write a program that takes a string as input and prints it in reverse order.\n"
   ]
  },
  {
   "cell_type": "code",
   "execution_count": 79,
   "metadata": {},
   "outputs": [
    {
     "name": "stdout",
     "output_type": "stream",
     "text": [
      "Reversed string: 341\n"
     ]
    }
   ],
   "source": [
    "input_string= input(\"Enter a string:\")\n",
    "reversed_string= input_string[::-1]\n",
    "\n",
    "print(\"Reversed string:\", reversed_string)\n"
   ]
  },
  {
   "cell_type": "markdown",
   "metadata": {},
   "source": [
    "Q34. Write a program that counts the number of vowels in a given string."
   ]
  },
  {
   "cell_type": "code",
   "execution_count": 82,
   "metadata": {},
   "outputs": [
    {
     "name": "stdout",
     "output_type": "stream",
     "text": [
      "Number of vowel in the string: 3\n"
     ]
    }
   ],
   "source": [
    "input_string= input(\"Enter a string:\")\n",
    "\n",
    "vowels = \"a e i o u A E I O U\"\n",
    "\n",
    "vowel_count= 0\n",
    "for char in input_string:\n",
    "    if char in vowels:\n",
    "        vowel_count += 1\n",
    "print(\"Number of vowel in the string:\", vowel_count)\n"
   ]
  },
  {
   "cell_type": "markdown",
   "metadata": {},
   "source": [
    "Q35. Write a program that checks if a given string is a palindrome (reads the same\n",
    "forwards and backwards)."
   ]
  },
  {
   "cell_type": "code",
   "execution_count": 88,
   "metadata": {},
   "outputs": [
    {
     "name": "stdout",
     "output_type": "stream",
     "text": [
      "\"raajkoli is not a palindrome\n"
     ]
    }
   ],
   "source": [
    "input_string= input(\"Enter a string: \")\n",
    "\n",
    "if input_string == input_string[::-1]:\n",
    "    print(f'\"{input_string}\" is a palindrome.')\n",
    "else:\n",
    "    print(f'\"{input_string} is not a palindrome')\n",
    "    "
   ]
  },
  {
   "cell_type": "markdown",
   "metadata": {},
   "source": [
    "Q36. Write a program that removes duplicate characters from a string."
   ]
  },
  {
   "cell_type": "code",
   "execution_count": 90,
   "metadata": {},
   "outputs": [
    {
     "name": "stdout",
     "output_type": "stream",
     "text": [
      "String after removing duplicates:   raijbohulk\n"
     ]
    }
   ],
   "source": [
    "input_string= input(\"Enter  a string: \")\n",
    " \n",
    "output_string= \" \"\n",
    "\n",
    "for char in input_string:\n",
    "    if char not in output_string:\n",
    "        output_string += char\n",
    "print(\"String after removing duplicates: \", output_string)"
   ]
  },
  {
   "cell_type": "markdown",
   "metadata": {},
   "source": [
    "Q37. WAP to print even length words in string\n",
    "[hint: split() and for loop]"
   ]
  },
  {
   "cell_type": "code",
   "execution_count": 101,
   "metadata": {},
   "outputs": [
    {
     "name": "stdout",
     "output_type": "stream",
     "text": [
      "This\n",
      "is\n",
      "sample\n",
      "string\n",
      "some\n",
      "even\n",
      "length\n"
     ]
    }
   ],
   "source": [
    "input_string= \"This is sample string  some even length words\"\n",
    "\n",
    "words = input_string.split()\n",
    "\n",
    "for word in words:\n",
    "    if len(word) % 2 == 0:\n",
    "        print(word)"
   ]
  },
  {
   "cell_type": "markdown",
   "metadata": {},
   "source": [
    "Q38. WAP to remove spaces from given string:\n",
    "“Python is very easy”\n",
    "[Hint: use split() and then join()]"
   ]
  },
  {
   "cell_type": "code",
   "execution_count": 103,
   "metadata": {},
   "outputs": [
    {
     "name": "stdout",
     "output_type": "stream",
     "text": [
      "Pythonisveryeasy\n"
     ]
    }
   ],
   "source": [
    "input_string= \"Python is very easy\"\n",
    "\n",
    "words= input_string.split()\n",
    "output_string =''.join(words)\n",
    "\n",
    "print(output_string)"
   ]
  },
  {
   "cell_type": "markdown",
   "metadata": {},
   "source": [
    " Q39. WAP to convert given list of ASCII value to string. [65, 66, 67, 68, 69]\n",
    "[Hint: use chr() to convert ASCII value to character]"
   ]
  },
  {
   "cell_type": "code",
   "execution_count": 108,
   "metadata": {},
   "outputs": [
    {
     "name": "stdout",
     "output_type": "stream",
     "text": [
      "A B C D E "
     ]
    }
   ],
   "source": [
    "ascii_values= [65,66,67,68,69]\n",
    "\n",
    "for value in ascii_values:\n",
    "    print(chr(value), end=' ')"
   ]
  },
  {
   "cell_type": "markdown",
   "metadata": {},
   "source": [
    "Q40. WAP to print the individual characters of the string inputted by user in the\n",
    "following way\n",
    "Example: H—e—l—l—o"
   ]
  },
  {
   "cell_type": "code",
   "execution_count": 111,
   "metadata": {},
   "outputs": [
    {
     "name": "stdout",
     "output_type": "stream",
     "text": [
      "H-e-l-l-o\n"
     ]
    }
   ],
   "source": [
    "input_string= input(\"Enter a string: \")\n",
    "output_string= '-' .join(input_string)\n",
    "print(output_string)"
   ]
  }
 ],
 "metadata": {
  "kernelspec": {
   "display_name": "Python 3",
   "language": "python",
   "name": "python3"
  },
  "language_info": {
   "codemirror_mode": {
    "name": "ipython",
    "version": 3
   },
   "file_extension": ".py",
   "mimetype": "text/x-python",
   "name": "python",
   "nbconvert_exporter": "python",
   "pygments_lexer": "ipython3",
   "version": "3.9.6"
  }
 },
 "nbformat": 4,
 "nbformat_minor": 2
}
